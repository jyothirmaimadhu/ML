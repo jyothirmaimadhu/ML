{
 "cells": [
  {
   "cell_type": "code",
   "execution_count": null,
   "metadata": {},
   "outputs": [],
   "source": [
    "#type conversion\n",
    "int()\n",
    "float()\n",
    "set()\n",
    "list()\n",
    "dict()\n",
    "tuple()"
   ]
  },
  {
   "cell_type": "code",
   "execution_count": 4,
   "metadata": {},
   "outputs": [
    {
     "data": {
      "text/plain": [
       "'10name'"
      ]
     },
     "execution_count": 4,
     "metadata": {},
     "output_type": "execute_result"
    }
   ],
   "source": [
    "#Type conversion\n",
    "a=10\n",
    "b='name'\n",
    "str(a)+b\n"
   ]
  },
  {
   "cell_type": "code",
   "execution_count": null,
   "metadata": {},
   "outputs": [],
   "source": [
    "#collections: collection data types in python are list,set,tuple,dictionaries\n"
   ]
  },
  {
   "cell_type": "code",
   "execution_count": 5,
   "metadata": {},
   "outputs": [
    {
     "name": "stdout",
     "output_type": "stream",
     "text": [
      "courses(name='datascience', technology='python')\n"
     ]
    }
   ],
   "source": [
    "#namedtuple(): returns a tuple with the named value for each element in tuple\n",
    "#so that we can easily access elements with the help of name instead of indexes\n",
    "\n",
    "from collections import namedtuple\n",
    "a=namedtuple('courses','name,technology')\n",
    "s=a('datascience','python')\n",
    "print(s)\n"
   ]
  },
  {
   "cell_type": "markdown",
   "metadata": {},
   "source": [
    "#How to create Arrays in Python?\n",
    "Arrays can be created in 3 ways\n",
    "\n",
    "1.import array\n",
    "2.import array as arr\n",
    "3.from array import *"
   ]
  },
  {
   "cell_type": "markdown",
   "metadata": {},
   "source": [
    " Arrays are mutable"
   ]
  },
  {
   "cell_type": "code",
   "execution_count": 7,
   "metadata": {},
   "outputs": [
    {
     "data": {
      "text/plain": [
       "3"
      ]
     },
     "execution_count": 7,
     "metadata": {},
     "output_type": "execute_result"
    }
   ],
   "source": [
    "#length of an array\n",
    "import array as arr\n",
    "a=arr.array('d',[1.1,2.6,6.3])\n",
    "len(a)"
   ]
  },
  {
   "cell_type": "markdown",
   "metadata": {},
   "source": [
    "#Adding elements to an array using append,insert or extend\n",
    "\n",
    "append(): adds a single element at the end of array\n",
    "    \n",
    "extend(): add more than one element at end of array\n",
    "    \n",
    "insert(): add an element at a specific position in an array"
   ]
  },
  {
   "cell_type": "code",
   "execution_count": 9,
   "metadata": {},
   "outputs": [
    {
     "name": "stdout",
     "output_type": "stream",
     "text": [
      "array('d', [1.1, 2.6, 6.3, 7.4, 2.1, 4.7, 8.2, 7.4])\n",
      "array('d', [1.1, 2.6, 6.3, 7.4, 2.1, 4.7, 8.2, 7.4, 2.1, 4.7, 8.2])\n",
      "array('d', [1.1, 2.6, 6.3, 4.5, 7.4, 2.1, 4.7, 8.2, 7.4, 2.1, 4.7, 8.2])\n"
     ]
    }
   ],
   "source": [
    "a.append(7.4)\n",
    "print(a)\n",
    "a.extend([2.1,4.7,8.2])\n",
    "print(a)\n",
    "a.insert(3,4.5)\n",
    "print(a)"
   ]
  },
  {
   "cell_type": "markdown",
   "metadata": {},
   "source": [
    "#removing elements of an array\n",
    "1.using pop()\n",
    "2.using remove()\n",
    "\n"
   ]
  },
  {
   "cell_type": "markdown",
   "metadata": {},
   "source": [
    "pop(): remove an element and return it\n",
    "\n",
    "remove(): removes an element with a specific value without returning it"
   ]
  },
  {
   "cell_type": "code",
   "execution_count": 12,
   "metadata": {},
   "outputs": [
    {
     "data": {
      "text/plain": [
       "array('d', [1.1, 2.6, 7.4, 2.1, 4.7, 8.2, 7.4, 2.1, 4.7, 8.2])"
      ]
     },
     "execution_count": 12,
     "metadata": {},
     "output_type": "execute_result"
    }
   ],
   "source": [
    "a.pop(2)\n",
    "a"
   ]
  },
  {
   "cell_type": "code",
   "execution_count": 20,
   "metadata": {},
   "outputs": [
    {
     "data": {
      "text/plain": [
       "array('d', [1.1, 2.6, 7.4, 8.2, 7.4, 8.2])"
      ]
     },
     "execution_count": 20,
     "metadata": {},
     "output_type": "execute_result"
    }
   ],
   "source": [
    "a.remove(2.1)\n",
    "\n",
    "a"
   ]
  },
  {
   "cell_type": "markdown",
   "metadata": {},
   "source": [
    "# Array concatenation"
   ]
  },
  {
   "cell_type": "code",
   "execution_count": 22,
   "metadata": {},
   "outputs": [
    {
     "data": {
      "text/plain": [
       "array('i', [5, 2, 7, 1, 5, 6, 2, 5, 6])"
      ]
     },
     "execution_count": 22,
     "metadata": {},
     "output_type": "execute_result"
    }
   ],
   "source": [
    "b=arr.array('i',[5,2,7,1,5])\n",
    "c=arr.array('i',[6,2,5,6])\n",
    "d=arr.array('i')\n",
    "d=b+c\n",
    "d"
   ]
  },
  {
   "cell_type": "code",
   "execution_count": 23,
   "metadata": {},
   "outputs": [
    {
     "data": {
      "text/plain": [
       "array('i', [5, 2, 7])"
      ]
     },
     "execution_count": 23,
     "metadata": {},
     "output_type": "execute_result"
    }
   ],
   "source": [
    "#slicing an array:\n",
    "d[0:3]"
   ]
  },
  {
   "cell_type": "markdown",
   "metadata": {},
   "source": [
    "# looping\n",
    "for x in d:\n",
    "    print(x)"
   ]
  },
  {
   "cell_type": "code",
   "execution_count": 25,
   "metadata": {},
   "outputs": [
    {
     "name": "stdout",
     "output_type": "stream",
     "text": [
      "5\n",
      "2\n",
      "7\n",
      "1\n"
     ]
    }
   ],
   "source": [
    "for x in d[0:4]:\n",
    "    print(x)"
   ]
  },
  {
   "cell_type": "markdown",
   "metadata": {},
   "source": [
    "# HASH TABLES AND HASH MAPS"
   ]
  },
  {
   "cell_type": "markdown",
   "metadata": {},
   "source": [
    "is type of data structure that maps keys to its value pairs"
   ]
  },
  {
   "cell_type": "markdown",
   "metadata": {},
   "source": [
    "#creating dictionaries\n",
    "\n",
    "1.using curly braces\n",
    "\n",
    "2.using dict()"
   ]
  },
  {
   "cell_type": "code",
   "execution_count": 28,
   "metadata": {},
   "outputs": [
    {
     "data": {
      "text/plain": [
       "{1: 'horse', 2: 'monkey', 3: 'snake'}"
      ]
     },
     "execution_count": 28,
     "metadata": {},
     "output_type": "execute_result"
    }
   ],
   "source": [
    "a={1:'horse',2:'monkey',3:'snake'}\n",
    "a"
   ]
  },
  {
   "cell_type": "code",
   "execution_count": 35,
   "metadata": {},
   "outputs": [
    {
     "name": "stdout",
     "output_type": "stream",
     "text": [
      "{'abc': 'horse', 'cdf': 'monkey', 'ere': 'snake'}\n"
     ]
    }
   ],
   "source": [
    "b = dict(abc='horse', cdf='monkey',ere='snake')\n",
    "print(b)"
   ]
  },
  {
   "cell_type": "markdown",
   "metadata": {},
   "source": [
    "# BITWISE OPERATORS"
   ]
  },
  {
   "cell_type": "code",
   "execution_count": 36,
   "metadata": {},
   "outputs": [
    {
     "data": {
      "text/plain": [
       "10"
      ]
     },
     "execution_count": 36,
     "metadata": {},
     "output_type": "execute_result"
    }
   ],
   "source": [
    "x=10\n",
    "y=15\n",
    "x&y"
   ]
  },
  {
   "cell_type": "code",
   "execution_count": 37,
   "metadata": {},
   "outputs": [
    {
     "data": {
      "text/plain": [
       "15"
      ]
     },
     "execution_count": 37,
     "metadata": {},
     "output_type": "execute_result"
    }
   ],
   "source": [
    "x|y"
   ]
  },
  {
   "cell_type": "code",
   "execution_count": 39,
   "metadata": {},
   "outputs": [
    {
     "data": {
      "text/plain": [
       "5"
      ]
     },
     "execution_count": 39,
     "metadata": {},
     "output_type": "execute_result"
    }
   ],
   "source": [
    "x ^ y #xor"
   ]
  },
  {
   "cell_type": "code",
   "execution_count": 42,
   "metadata": {},
   "outputs": [
    {
     "data": {
      "text/plain": [
       "-11"
      ]
     },
     "execution_count": 42,
     "metadata": {},
     "output_type": "execute_result"
    }
   ],
   "source": [
    "~x #NOT"
   ]
  },
  {
   "cell_type": "code",
   "execution_count": 43,
   "metadata": {},
   "outputs": [
    {
     "data": {
      "text/plain": [
       "327680"
      ]
     },
     "execution_count": 43,
     "metadata": {},
     "output_type": "execute_result"
    }
   ],
   "source": [
    "x<<y"
   ]
  },
  {
   "cell_type": "code",
   "execution_count": 44,
   "metadata": {},
   "outputs": [
    {
     "data": {
      "text/plain": [
       "0"
      ]
     },
     "execution_count": 44,
     "metadata": {},
     "output_type": "execute_result"
    }
   ],
   "source": [
    "x>>y"
   ]
  },
  {
   "cell_type": "markdown",
   "metadata": {},
   "source": [
    "# LOOPS in python"
   ]
  },
  {
   "cell_type": "markdown",
   "metadata": {},
   "source": [
    "1.While loop: it is an indefinite or conditional loops.they will keep on iterating \n",
    "    until certain conditions are met."
   ]
  },
  {
   "cell_type": "code",
   "execution_count": 49,
   "metadata": {},
   "outputs": [
    {
     "name": "stdout",
     "output_type": "stream",
     "text": [
      "number 0\n",
      "number 1\n",
      "number 2\n",
      "number 3\n",
      "number 4\n",
      "number 5\n",
      "number 6\n",
      "number 7\n",
      "number 8\n",
      "Good bye\n"
     ]
    }
   ],
   "source": [
    "#example\n",
    "count=0\n",
    "while count<9:\n",
    "    print('number',count)\n",
    "    count=count+1\n",
    "print('Good bye')"
   ]
  },
  {
   "cell_type": "code",
   "execution_count": 59,
   "metadata": {},
   "outputs": [
    {
     "name": "stdout",
     "output_type": "stream",
     "text": [
      "Enter an integer from 1 to 99: 50\n",
      "guess is high\n",
      "Enter an integer from 1 to 99: 25\n",
      "guess is low\n",
      "Enter an integer from 1 to 99: 51\n",
      "guess is high\n",
      "Enter an integer from 1 to 99: \n"
     ]
    },
    {
     "ename": "ValueError",
     "evalue": "invalid literal for int() with base 10: ''",
     "output_type": "error",
     "traceback": [
      "\u001b[1;31m---------------------------------------------------------------------------\u001b[0m",
      "\u001b[1;31mValueError\u001b[0m                                Traceback (most recent call last)",
      "\u001b[1;32m<ipython-input-59-bed43818649a>\u001b[0m in \u001b[0;36m<module>\u001b[1;34m\u001b[0m\n\u001b[0;32m     13\u001b[0m     \u001b[1;32melif\u001b[0m \u001b[0mguess\u001b[0m \u001b[1;33m>\u001b[0m \u001b[0mn\u001b[0m\u001b[1;33m:\u001b[0m\u001b[1;33m\u001b[0m\u001b[1;33m\u001b[0m\u001b[0m\n\u001b[0;32m     14\u001b[0m         \u001b[0mprint\u001b[0m\u001b[1;33m(\u001b[0m\u001b[1;34m\"guess is high\"\u001b[0m\u001b[1;33m)\u001b[0m\u001b[1;33m\u001b[0m\u001b[1;33m\u001b[0m\u001b[0m\n\u001b[1;32m---> 15\u001b[1;33m         \u001b[0mguess\u001b[0m \u001b[1;33m=\u001b[0m \u001b[0mint\u001b[0m\u001b[1;33m(\u001b[0m\u001b[0minput\u001b[0m\u001b[1;33m(\u001b[0m\u001b[1;34m\"Enter an integer from 1 to 99: \"\u001b[0m\u001b[1;33m)\u001b[0m\u001b[1;33m)\u001b[0m\u001b[1;33m\u001b[0m\u001b[1;33m\u001b[0m\u001b[0m\n\u001b[0m\u001b[0;32m     16\u001b[0m     \u001b[1;32melse\u001b[0m\u001b[1;33m:\u001b[0m\u001b[1;33m\u001b[0m\u001b[1;33m\u001b[0m\u001b[0m\n\u001b[0;32m     17\u001b[0m         \u001b[0mprint\u001b[0m\u001b[1;33m(\u001b[0m\u001b[1;34m\"you guessed it!\"\u001b[0m\u001b[1;33m)\u001b[0m\u001b[1;33m\u001b[0m\u001b[1;33m\u001b[0m\u001b[0m\n",
      "\u001b[1;31mValueError\u001b[0m: invalid literal for int() with base 10: ''"
     ]
    }
   ],
   "source": [
    "#example:a guesisng game:\n",
    "#input nmbr=10 then nmbr is too small\n",
    "#input nmbr=13 then exit: congratulations you made it\n",
    "#input number is 15 then number is large\n",
    "\n",
    "import random\n",
    "n=random.randint(1,99)\n",
    "guess = int(input(\"Enter an integer from 1 to 99: \"))\n",
    "while n != guess:\n",
    "    if guess < n:\n",
    "        print(\"guess is low\")\n",
    "        guess = int(input(\"Enter an integer from 1 to 99: \"))\n",
    "    elif guess > n:\n",
    "        print(\"guess is high\")\n",
    "        guess = int(input(\"Enter an integer from 1 to 99: \"))\n",
    "    else:\n",
    "        print(\"you guessed it!\")\n",
    "        break\n",
    "else:\n",
    "    print('Congratulations')\n",
    "    "
   ]
  },
  {
   "cell_type": "markdown",
   "metadata": {},
   "source": [
    "for loop: is a loop which repeats a group of statements a specified number o ftimes.\n",
    "    we will know how many number of loops can be iterated.\n",
    "    \n",
    "    "
   ]
  },
  {
   "cell_type": "code",
   "execution_count": 60,
   "metadata": {},
   "outputs": [
    {
     "name": "stdout",
     "output_type": "stream",
     "text": [
      "current fruit mango\n",
      "current fruit grapes\n",
      "current fruit apple\n",
      "Good bye\n"
     ]
    }
   ],
   "source": [
    "#example:\n",
    "fruits=['mango','grapes','apple']\n",
    "\n",
    "for fruit in fruits:\n",
    "    print('current fruit',fruit)\n",
    "print('Good bye')"
   ]
  },
  {
   "cell_type": "code",
   "execution_count": 71,
   "metadata": {},
   "outputs": [
    {
     "name": "stdout",
     "output_type": "stream",
     "text": [
      "Enter a number: 0\n",
      "The factorial of 0 is 1\n"
     ]
    }
   ],
   "source": [
    "#example:find factorial\n",
    "num = int(input(\"Enter a number: \"))\n",
    "\n",
    "factorial = 1\n",
    "for i in range(1,num + 1):\n",
    "    factorial = factorial*i\n",
    "print(\"The factorial of\",num,\"is\",factorial)"
   ]
  },
  {
   "cell_type": "code",
   "execution_count": 1,
   "metadata": {},
   "outputs": [
    {
     "name": "stdout",
     "output_type": "stream",
     "text": [
      "max number30\n",
      "3 4 5\n",
      "4 3 5\n",
      "5 12 13\n",
      "6 8 10\n",
      "7 24 25\n",
      "8 6 10\n",
      "8 15 17\n",
      "9 12 15\n",
      "10 24 26\n",
      "12 5 13\n",
      "12 9 15\n",
      "12 16 20\n",
      "15 8 17\n",
      "15 20 25\n",
      "16 12 20\n",
      "18 24 30\n",
      "20 15 25\n",
      "20 21 29\n",
      "21 20 29\n",
      "21 28 35\n",
      "24 7 25\n",
      "24 10 26\n",
      "24 18 30\n",
      "28 21 35\n",
      "30 16 34\n"
     ]
    }
   ],
   "source": [
    "#code to print pythagorean numbers which satisfies a2+b2=c2\n",
    "#print numbers in between 1-20\n",
    "\n",
    "from math import sqrt\n",
    "n=int(input('max number'))\n",
    "\n",
    "for a in range(1,n+1):\n",
    "    for b in range(1,n):\n",
    "        c_square = a**2 + b**2\n",
    "        c=int(sqrt(c_square))\n",
    "        if ((c_square - c**2) == 0):\n",
    "            print(a,b,c)\n",
    "\n"
   ]
  },
  {
   "cell_type": "code",
   "execution_count": 3,
   "metadata": {},
   "outputs": [
    {
     "name": "stdout",
     "output_type": "stream",
     "text": [
      "yes or noyes\n",
      "number of people travelling:3\n",
      "name:Madhu\n",
      "Age:35\n",
      "Male or Female:Male\n",
      "Madhu\n",
      "35\n",
      "Male\n",
      "name:Jyothirmai\n",
      "Age:33\n",
      "Male or Female:Female\n",
      "Jyothirmai\n",
      "33\n",
      "Female\n",
      "name:Hiranya\n",
      "Age:3\n",
      "Male or Female:Female\n",
      "Hiranya\n",
      "3\n",
      "Female\n",
      "forgot someone?no\n"
     ]
    }
   ],
   "source": [
    "# using a for loop inside while loop\n",
    "#bulk reservation: age,name ,sex\n",
    "\n",
    "travelling=input('yes or no')\n",
    "\n",
    "while travelling == 'yes':\n",
    "    n=int(input('number of people travelling:'))\n",
    "    for i in range(1,n+1):\n",
    "        Name=input('name:')\n",
    "        Age=input('Age:')\n",
    "        Sex=input('Male or Female:')\n",
    "        print(Name)\n",
    "        print(Age)\n",
    "        print(Sex)\n",
    "    travelling=input('forgot someone?')"
   ]
  },
  {
   "cell_type": "markdown",
   "metadata": {},
   "source": [
    "# Patterns"
   ]
  },
  {
   "cell_type": "markdown",
   "metadata": {},
   "source": [
    "star pattern Programs  \n",
    "\n",
    "Number pattern programs\n",
    "\n",
    "Alphabet/Character Pattern programs\n",
    "\n",
    "\n"
   ]
  },
  {
   "cell_type": "code",
   "execution_count": 16,
   "metadata": {},
   "outputs": [
    {
     "name": "stdout",
     "output_type": "stream",
     "text": [
      "                    * \r\n",
      "                   * * \r\n",
      "                  * * * \r\n",
      "                 * * * * \r\n",
      "                * * * * * \r\n",
      "               * * * * * * \r\n",
      "              * * * * * * * \r\n",
      "             * * * * * * * * \r\n",
      "            * * * * * * * * * \r\n",
      "           * * * * * * * * * * \r\n"
     ]
    }
   ],
   "source": [
    "#pyramid\n",
    "def pattern(n):\n",
    "    k=2*n #for blank spaces\n",
    "    for i in range(0,n):#loop for outer rows\n",
    "        for j in range(0,k):#loop for columns\n",
    "            print(end=\" \")\n",
    "        k=k-1\n",
    "        for j in range(0,i+1):#loop for moving fwd direction\n",
    "            print('* ',end='')\n",
    "        print('\\r')\n",
    "            \n",
    "pattern(10)\n"
   ]
  },
  {
   "cell_type": "code",
   "execution_count": 14,
   "metadata": {},
   "outputs": [
    {
     "name": "stdout",
     "output_type": "stream",
     "text": [
      "                    *  *  *  *  *  *  *  *  *  *  *  \r\n",
      "                     *  *  *  *  *  *  *  *  *  *  \r\n",
      "                      *  *  *  *  *  *  *  *  *  \r\n",
      "                       *  *  *  *  *  *  *  *  \r\n",
      "                        *  *  *  *  *  *  *  \r\n",
      "                         *  *  *  *  *  *  \r\n",
      "                          *  *  *  *  *  \r\n",
      "                           *  *  *  *  \r\n",
      "                            *  *  *  \r\n",
      "                             *  *  \r\n",
      "                              *  \r\n"
     ]
    }
   ],
   "source": [
    "#inverse pyramid\n",
    "def pattern(n):\n",
    "    k = 2*n \n",
    "    for i in range(n,-1,-1):\n",
    "        for j in range(k,0,-1):\n",
    "            print(end=\" \")\n",
    "        k=k+1\n",
    "        for j in range(0,i+1):\n",
    "            print(\"* \",end=' ')\n",
    "        print(\"\\r\")\n",
    "pattern(10)"
   ]
  },
  {
   "cell_type": "code",
   "execution_count": 1,
   "metadata": {},
   "outputs": [
    {
     "name": "stdout",
     "output_type": "stream",
     "text": [
      "enter the number of rows5\n",
      "*\n",
      "**\n",
      "***\n",
      "****\n",
      "*****\n"
     ]
    }
   ],
   "source": [
    "num=int(input('enter the number of rows'))\n",
    "for i in range(1,num+1):\n",
    "    for j in range(1,i+1):\n",
    "        print('*',end='')\n",
    "    print('')\n",
    "        "
   ]
  },
  {
   "cell_type": "code",
   "execution_count": 2,
   "metadata": {},
   "outputs": [
    {
     "name": "stdout",
     "output_type": "stream",
     "text": [
      "ente rthe number of rows6\n",
      "*\n",
      "***\n",
      "*****\n",
      "*******\n",
      "*********\n",
      "***********\n"
     ]
    }
   ],
   "source": [
    "num=int(input('ente rthe number of rows'))\n",
    "\n",
    "k=1\n",
    "for i in range(1,num+1):\n",
    "    for j in range(1,k+1):\n",
    "        print('*',end='')\n",
    "    k=k+2\n",
    "    print()\n",
    "        \n",
    "        \n",
    "        \n",
    "        "
   ]
  },
  {
   "cell_type": "code",
   "execution_count": 1,
   "metadata": {},
   "outputs": [
    {
     "name": "stdout",
     "output_type": "stream",
     "text": [
      "enter number of rows6\n",
      "* * * * * \n",
      "* * * * * \n",
      "* * * * * \n",
      "* * * * * \n",
      "* * * * * \n"
     ]
    }
   ],
   "source": [
    "num=int(input('enter number of rows'))\n",
    "for i in range(1,num):\n",
    "    for j in range(1,num):\n",
    "        print('* ',end='')\n",
    "    print('')"
   ]
  },
  {
   "cell_type": "code",
   "execution_count": 4,
   "metadata": {},
   "outputs": [
    {
     "name": "stdout",
     "output_type": "stream",
     "text": [
      "enter number of rows6\n",
      "  1  1  1  1  1\n",
      "  2  2  2  2  2\n",
      "  3  3  3  3  3\n",
      "  4  4  4  4  4\n",
      "  5  5  5  5  5\n"
     ]
    }
   ],
   "source": [
    "num=int(input('enter number of rows'))\n",
    "for i in range(1,num):\n",
    "    for j in range(1,num):\n",
    "        print(' ',+i,end='')\n",
    "    print('')"
   ]
  },
  {
   "cell_type": "code",
   "execution_count": 5,
   "metadata": {},
   "outputs": [
    {
     "name": "stdout",
     "output_type": "stream",
     "text": [
      "enter number of rows6\n",
      "  1  2  3  4  5\n",
      "  1  2  3  4  5\n",
      "  1  2  3  4  5\n",
      "  1  2  3  4  5\n",
      "  1  2  3  4  5\n"
     ]
    }
   ],
   "source": [
    "num=int(input('enter number of rows'))\n",
    "for i in range(1,num):\n",
    "    for j in range(1,num):\n",
    "        print(' ',+j,end='')\n",
    "    print('')"
   ]
  },
  {
   "cell_type": "code",
   "execution_count": 13,
   "metadata": {},
   "outputs": [
    {
     "name": "stdout",
     "output_type": "stream",
     "text": [
      "enter number of rows5\n",
      "  5  5  5  5  5\n",
      "  4  4  4  4  4\n",
      "  3  3  3  3  3\n",
      "  2  2  2  2  2\n",
      "  1  1  1  1  1\n"
     ]
    }
   ],
   "source": [
    "num=int(input('enter number of rows'))\n",
    "for i in range(num,0,-1):\n",
    "    for j in range(num,0,-1):\n",
    "        print(' ',+i,end='')\n",
    "        \n",
    "    print('')\n",
    "    "
   ]
  },
  {
   "cell_type": "code",
   "execution_count": 14,
   "metadata": {},
   "outputs": [
    {
     "name": "stdout",
     "output_type": "stream",
     "text": [
      "enter number of rows5\n",
      "  5  4  3  2  1\n",
      "  5  4  3  2  1\n",
      "  5  4  3  2  1\n",
      "  5  4  3  2  1\n",
      "  5  4  3  2  1\n"
     ]
    }
   ],
   "source": [
    "num=int(input('enter number of rows'))\n",
    "for i in range(num,0,-1):\n",
    "    for j in range(num,0,-1):\n",
    "        print(' ',+j,end='')\n",
    "        \n",
    "    print('')"
   ]
  },
  {
   "cell_type": "code",
   "execution_count": 15,
   "metadata": {},
   "outputs": [
    {
     "name": "stdout",
     "output_type": "stream",
     "text": [
      "enter number of rows6\n",
      "  1  2  3  4  5\n",
      "  6  7  8  9  10\n",
      "  11  12  13  14  15\n",
      "  16  17  18  19  20\n",
      "  21  22  23  24  25\n"
     ]
    }
   ],
   "source": [
    "num=int(input('enter number of rows'))\n",
    "k=1\n",
    "for i in range(1,num):\n",
    "    for j in range(1,num):\n",
    "        print(' ',+k,end='')\n",
    "        k=k+1\n",
    "    print('')"
   ]
  },
  {
   "cell_type": "code",
   "execution_count": 16,
   "metadata": {},
   "outputs": [
    {
     "name": "stdout",
     "output_type": "stream",
     "text": [
      "enter number of rows6\n",
      "  1  3  5  7  9\n",
      "  11  13  15  17  19\n",
      "  21  23  25  27  29\n",
      "  31  33  35  37  39\n",
      "  41  43  45  47  49\n"
     ]
    }
   ],
   "source": [
    "num=int(input('enter number of rows'))\n",
    "k=1\n",
    "for i in range(1,num):\n",
    "    for j in range(1,num):\n",
    "        print(' ',+k,end='')\n",
    "        k=k+2\n",
    "    print('')"
   ]
  },
  {
   "cell_type": "code",
   "execution_count": 17,
   "metadata": {},
   "outputs": [
    {
     "name": "stdout",
     "output_type": "stream",
     "text": [
      "enter number of rows6\n",
      "  2  4  6  8  10\n",
      "  12  14  16  18  20\n",
      "  22  24  26  28  30\n",
      "  32  34  36  38  40\n",
      "  42  44  46  48  50\n"
     ]
    }
   ],
   "source": [
    "num=int(input('enter number of rows'))\n",
    "k=2\n",
    "for i in range(1,num):\n",
    "    for j in range(1,num):\n",
    "        print(' ',+k,end='')\n",
    "        k=k+2\n",
    "    print('')"
   ]
  },
  {
   "cell_type": "code",
   "execution_count": 19,
   "metadata": {},
   "outputs": [
    {
     "name": "stdout",
     "output_type": "stream",
     "text": [
      "enter number of rows6\n",
      "  1  2  3  4  5\n",
      "  2  4  6  8  10\n",
      "  3  6  9  12  15\n",
      "  4  8  12  16  20\n",
      "  5  10  15  20  25\n"
     ]
    }
   ],
   "source": [
    "num=int(input('enter number of rows'))\n",
    "k=1\n",
    "for i in range(1,num):\n",
    "    for j in range(1,num):\n",
    "        print(' ',i*j,end='')\n",
    "       \n",
    "    print('')"
   ]
  },
  {
   "cell_type": "code",
   "execution_count": 31,
   "metadata": {},
   "outputs": [
    {
     "name": "stdout",
     "output_type": "stream",
     "text": [
      "enter number of rows6\n",
      "1 1 2 1 3 1 \n",
      "1 2 2 2 3 2 \n",
      "1 3 2 3 3 3 \n",
      "1 4 2 4 3 4 \n",
      "1 5 2 5 3 5 \n"
     ]
    }
   ],
   "source": [
    "num=int(input('enter number of rows'))\n",
    "\n",
    "for i in range(1,num):\n",
    "    for j in range(1,4):\n",
    "        print('{} {}'.format(j,i),end=' ')\n",
    "    print('')"
   ]
  },
  {
   "cell_type": "code",
   "execution_count": 32,
   "metadata": {},
   "outputs": [
    {
     "name": "stdout",
     "output_type": "stream",
     "text": [
      "enter number of rows6\n",
      "1 1 1 2 1 3 \n",
      "2 1 2 2 2 3 \n",
      "3 1 3 2 3 3 \n",
      "4 1 4 2 4 3 \n",
      "5 1 5 2 5 3 \n"
     ]
    }
   ],
   "source": [
    "num=int(input('enter number of rows'))\n",
    "\n",
    "for i in range(1,num):\n",
    "    for j in range(1,4):\n",
    "        print('{} {}'.format(i,j),end=' ')\n",
    "    print('')"
   ]
  },
  {
   "cell_type": "code",
   "execution_count": 51,
   "metadata": {},
   "outputs": [
    {
     "name": "stdout",
     "output_type": "stream",
     "text": [
      "enter number of rows6\n",
      "  1  6  11  16  21\n",
      "  2  7  12  17  22\n",
      "  3  8  13  18  23\n",
      "  4  9  14  19  24\n",
      "  5  10  15  20  25\n"
     ]
    }
   ],
   "source": [
    "num=int(input('enter number of rows'))\n",
    "k=5\n",
    "for i in range(1,num):\n",
    "    p=i\n",
    "    for j in range(1,num):\n",
    "        print(' ',+p,end='')\n",
    "        p=p+k\n",
    "    print('')\n",
    "   \n",
    "   "
   ]
  },
  {
   "cell_type": "code",
   "execution_count": 10,
   "metadata": {},
   "outputs": [
    {
     "name": "stdout",
     "output_type": "stream",
     "text": [
      "1 11 11 21 21 \n",
      "2 10 12 20 22 \n",
      "3 9 13 19 23 \n",
      "4 8 14 18 24 \n",
      "5 7 15 17 25 \n"
     ]
    }
   ],
   "source": [
    "\n",
    "k=5\n",
    "\n",
    "for i in range(1,6):\n",
    "    p=i\n",
    "    q=7-i\n",
    "    for j in range(1,num):\n",
    "        if(j%2==1):\n",
    "            print('{} '.format(p),end='')\n",
    "        else:\n",
    "            print('{} '.format(q),end='')   \n",
    "        p=p+k\n",
    "        q=q+k\n",
    "    print('')\n",
    "   "
   ]
  },
  {
   "cell_type": "markdown",
   "metadata": {},
   "source": [
    "# EVEN/ODD"
   ]
  },
  {
   "cell_type": "code",
   "execution_count": 12,
   "metadata": {},
   "outputs": [
    {
     "name": "stdout",
     "output_type": "stream",
     "text": [
      "enter the number7\n",
      "ODD\n"
     ]
    }
   ],
   "source": [
    "num=int(input('enter the number'))\n",
    "if(num%2==0):\n",
    "    print('EVEN')\n",
    "else:\n",
    "    print('ODD') "
   ]
  },
  {
   "cell_type": "markdown",
   "metadata": {},
   "source": [
    "# FACTORIAL"
   ]
  },
  {
   "cell_type": "code",
   "execution_count": 16,
   "metadata": {},
   "outputs": [
    {
     "name": "stdout",
     "output_type": "stream",
     "text": [
      "enter the number7\n",
      "fact 5040\n"
     ]
    }
   ],
   "source": [
    "num=int(input('enter the number'))\n",
    "fact=1\n",
    "for i in range(1,num+1):\n",
    "    fact=fact*i\n",
    "print('fact',+fact)\n"
   ]
  },
  {
   "cell_type": "markdown",
   "metadata": {},
   "source": [
    "# FACTORIAL USING FUNCTION"
   ]
  },
  {
   "cell_type": "code",
   "execution_count": 27,
   "metadata": {},
   "outputs": [
    {
     "name": "stdout",
     "output_type": "stream",
     "text": [
      "enter number5\n",
      "factorial is 120\n"
     ]
    }
   ],
   "source": [
    "def fact(n):\n",
    "    if n<=1:\n",
    "        return 1\n",
    "    else:\n",
    "        n=n*fact(n-1)\n",
    "        return n\n",
    "n=int(input('enter number'))\n",
    "print('factorial is',fact(n))"
   ]
  },
  {
   "cell_type": "markdown",
   "metadata": {},
   "source": [
    "# PRIME NUMBER"
   ]
  },
  {
   "cell_type": "code",
   "execution_count": 33,
   "metadata": {},
   "outputs": [
    {
     "name": "stdout",
     "output_type": "stream",
     "text": [
      "enter the number14\n",
      "prime nmber 14\n"
     ]
    }
   ],
   "source": [
    "num=int(input('enter the number'))\n",
    "count=0\n",
    "if((num%num==0)"
   ]
  },
  {
   "cell_type": "code",
   "execution_count": null,
   "metadata": {},
   "outputs": [],
   "source": []
  }
 ],
 "metadata": {
  "kernelspec": {
   "display_name": "Python 3",
   "language": "python",
   "name": "python3"
  },
  "language_info": {
   "codemirror_mode": {
    "name": "ipython",
    "version": 3
   },
   "file_extension": ".py",
   "mimetype": "text/x-python",
   "name": "python",
   "nbconvert_exporter": "python",
   "pygments_lexer": "ipython3",
   "version": "3.8.5"
  }
 },
 "nbformat": 4,
 "nbformat_minor": 4
}
